{
 "cells": [
  {
   "cell_type": "markdown",
   "metadata": {},
   "source": [
    "A partir del CSV hospitales2.csv, generar un archivo CSV de salida, que contenga los siguientes campos en este orden:\n",
    "latitude\n",
    "longitude\n",
    "name\n",
    "label\n",
    "Con los correspondientes datos extraídos del CSV original, el campo name tiene que corresponder con la dirección del hospital y el campo label con el nombre del hospital"
   ]
  },
  {
   "cell_type": "code",
   "execution_count": 37,
   "metadata": {},
   "outputs": [
    {
     "name": "stderr",
     "output_type": "stream",
     "text": [
      "E:\\Users\\ccook\\AppData\\Local\\Temp\\ipykernel_10676\\3163889997.py:15: FutureWarning: The default value of regex will change from True to False in a future version. In addition, single character regular expressions will *not* be treated as literal strings when regex=True.\n",
      "  coord = coord.str.replace(\"(\",\"\")\n",
      "E:\\Users\\ccook\\AppData\\Local\\Temp\\ipykernel_10676\\3163889997.py:16: FutureWarning: The default value of regex will change from True to False in a future version. In addition, single character regular expressions will *not* be treated as literal strings when regex=True.\n",
      "  coord = coord.str.replace(\")\",\"\")\n"
     ]
    },
    {
     "data": {
      "text/html": [
       "<div>\n",
       "<style scoped>\n",
       "    .dataframe tbody tr th:only-of-type {\n",
       "        vertical-align: middle;\n",
       "    }\n",
       "\n",
       "    .dataframe tbody tr th {\n",
       "        vertical-align: top;\n",
       "    }\n",
       "\n",
       "    .dataframe thead th {\n",
       "        text-align: right;\n",
       "    }\n",
       "</style>\n",
       "<table border=\"1\" class=\"dataframe\">\n",
       "  <thead>\n",
       "    <tr style=\"text-align: right;\">\n",
       "      <th></th>\n",
       "      <th>Latitude</th>\n",
       "      <th>Longitude</th>\n",
       "      <th>Name</th>\n",
       "      <th>Label</th>\n",
       "    </tr>\n",
       "  </thead>\n",
       "  <tbody>\n",
       "    <tr>\n",
       "      <th>0</th>\n",
       "      <td>-34.6288473603881</td>\n",
       "      <td>-58.3775508488443</td>\n",
       "      <td>40 MONTES DE OCA, MANUEL AV.</td>\n",
       "      <td>HOSPITAL GENERAL DE NIÑOS PEDRO DE ELIZALDE</td>\n",
       "    </tr>\n",
       "    <tr>\n",
       "      <th>1</th>\n",
       "      <td>-34.5941919726393</td>\n",
       "      <td>-58.4120700769456</td>\n",
       "      <td>1330 GALLO</td>\n",
       "      <td>HOSPITAL GENERAL DE NIÑOS RICARDO GUTIERREZ</td>\n",
       "    </tr>\n",
       "    <tr>\n",
       "      <th>2</th>\n",
       "      <td>-34.5845283357505</td>\n",
       "      <td>-58.4027276547828</td>\n",
       "      <td>2529 SANCHEZ DE BUSTAMANTE</td>\n",
       "      <td>HOSPITAL DE ODONTOLOGIA DR. RAMON CARRILLO (EX...</td>\n",
       "    </tr>\n",
       "    <tr>\n",
       "      <th>3</th>\n",
       "      <td>-34.6394041316484</td>\n",
       "      <td>-58.3851559118889</td>\n",
       "      <td>2570 BRANDSEN</td>\n",
       "      <td>HOSPITAL DE SALUD MENTAL BRAULIO MOYANO</td>\n",
       "    </tr>\n",
       "    <tr>\n",
       "      <th>4</th>\n",
       "      <td>-34.6341535760002</td>\n",
       "      <td>-58.3913114406535</td>\n",
       "      <td>2061 CASEROS AV.</td>\n",
       "      <td>HOSPITAL DE GASTROENTEROLOGIA B. UDAONDO</td>\n",
       "    </tr>\n",
       "  </tbody>\n",
       "</table>\n",
       "</div>"
      ],
      "text/plain": [
       "            Latitude          Longitude                          Name  \\\n",
       "0  -34.6288473603881  -58.3775508488443  40 MONTES DE OCA, MANUEL AV.   \n",
       "1  -34.5941919726393  -58.4120700769456                    1330 GALLO   \n",
       "2  -34.5845283357505  -58.4027276547828    2529 SANCHEZ DE BUSTAMANTE   \n",
       "3  -34.6394041316484  -58.3851559118889                 2570 BRANDSEN   \n",
       "4  -34.6341535760002  -58.3913114406535              2061 CASEROS AV.   \n",
       "\n",
       "                                               Label  \n",
       "0        HOSPITAL GENERAL DE NIÑOS PEDRO DE ELIZALDE  \n",
       "1        HOSPITAL GENERAL DE NIÑOS RICARDO GUTIERREZ  \n",
       "2  HOSPITAL DE ODONTOLOGIA DR. RAMON CARRILLO (EX...  \n",
       "3            HOSPITAL DE SALUD MENTAL BRAULIO MOYANO  \n",
       "4           HOSPITAL DE GASTROENTEROLOGIA B. UDAONDO  "
      ]
     },
     "execution_count": 37,
     "metadata": {},
     "output_type": "execute_result"
    }
   ],
   "source": [
    "import pandas as pd\n",
    "\n",
    "# Latitude: se extrae de WKT\n",
    "# Longitude: se extrae de WKT\n",
    "# Name: Se extrae de DOM_GEO\n",
    "# Label: se extrae de NOMBRE\n",
    "\n",
    "df = pd.read_csv('hospitales2.csv')\n",
    "\n",
    "# Selecciono solo aquellas series que voy a utilizar\n",
    "df = df[['WKT','DOM_GEO','NOMBRE']]\n",
    "\n",
    "# Debo separar de la serie WKT la latitud y la longitud\n",
    "coord = df['WKT'].str.replace('POINT ','')\n",
    "coord = coord.str.replace(\"(\",\"\")\n",
    "coord = coord.str.replace(\")\",\"\")\n",
    "df[['Longitude','Latitude']] = coord.str.split(' ',expand=True)\n",
    "\n",
    "# Falta ordenar y reordenar las columnas como las pide el enunciado\n",
    "df = df[['Latitude','Longitude','DOM_GEO','NOMBRE']]\n",
    "df.rename(columns = {'DOM_GEO':'Name','NOMBRE':'Label'}, inplace = True)\n",
    "\n",
    "# Se escribe la información en archivo hospitales2salida.csv\n",
    "df.to_csv('hospitales2salida.csv')\n",
    "\n",
    "df.head()\n",
    "\n"
   ]
  }
 ],
 "metadata": {
  "kernelspec": {
   "display_name": "Python 3.10.1 64-bit",
   "language": "python",
   "name": "python3"
  },
  "language_info": {
   "codemirror_mode": {
    "name": "ipython",
    "version": 3
   },
   "file_extension": ".py",
   "mimetype": "text/x-python",
   "name": "python",
   "nbconvert_exporter": "python",
   "pygments_lexer": "ipython3",
   "version": "3.10.1"
  },
  "orig_nbformat": 4,
  "vscode": {
   "interpreter": {
    "hash": "7a00de2d03a2cdd800050a5fd9903e27ef0ab168083508fb826c5866b9462f56"
   }
  }
 },
 "nbformat": 4,
 "nbformat_minor": 2
}
