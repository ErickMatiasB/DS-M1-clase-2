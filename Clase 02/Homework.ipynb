{
 "cells": [
  {
   "cell_type": "markdown",
   "metadata": {},
   "source": [
    "# Práctica Clase 2"
   ]
  },
  {
   "cell_type": "markdown",
   "metadata": {},
   "source": [
    "1) Abrir el archivo \"Emisiones_CO2.csv\" y cargar sus datos en un diccionario."
   ]
  },
  {
   "cell_type": "code",
   "execution_count": 7,
   "metadata": {},
   "outputs": [],
   "source": [
    "import os\n",
    "archivo = open('Emisiones_CO2.csv', 'r')"
   ]
  },
  {
   "cell_type": "code",
   "execution_count": 8,
   "metadata": {},
   "outputs": [],
   "source": [
    "dicc_emisiones = {  'cod_pais' : [],\n",
    "                    'nom_pais' : [],\n",
    "                    'region' : [],\n",
    "                    'anio' : [],\n",
    "                    'co2' : [],\n",
    "                    'co2_percapita' : []}\n",
    "\n",
    "\n",
    "#ciclo para recorrer linea por linea, separar los datos por delimitador \"|\" e introducirlos en el diccionario.\n",
    "#uso next para saltar linea de encabezado\n",
    "next(archivo)\n",
    "for linea in archivo:\n",
    "    dato = linea.split('|')  \n",
    "    dicc_emisiones['cod_pais'].append(dato[0])\n",
    "    dicc_emisiones['nom_pais'].append(dato[1])\n",
    "    dicc_emisiones['region'].append(dato[2])\n",
    "    dicc_emisiones['anio'].append(dato[3])\n",
    "    dicc_emisiones['co2'].append(dato[4])\n",
    "    dicc_emisiones['co2_percapita'].append(dato[5][0:-1])\n",
    "\n",
    "archivo.close()\n"
   ]
  },
  {
   "cell_type": "markdown",
   "metadata": {},
   "source": [
    "2) a) ¿Cuántas variables hay? <br>\n",
    "b) ¿Qué tipos de datos usar para cada una? <br>\n",
    "c) ¿Qué tipo de variables son? <br>\n",
    "d) ¿Hay valores faltantes? <br>\n",
    "e) ¿Cuál es el total de emisiones de CO2 para 'América Latina y Caribe' en el año 2010?"
   ]
  },
  {
   "cell_type": "code",
   "execution_count": 9,
   "metadata": {},
   "outputs": [
    {
     "data": {
      "text/plain": [
       "6"
      ]
     },
     "execution_count": 9,
     "metadata": {},
     "output_type": "execute_result"
    }
   ],
   "source": [
    "# Cuántas variables hay?\n",
    "\n",
    "#El diccionario tiene 6 variables (6 listas)\n",
    "\n",
    "dicc_emisiones.__len__()\n"
   ]
  },
  {
   "cell_type": "code",
   "execution_count": 69,
   "metadata": {},
   "outputs": [
    {
     "data": {
      "text/plain": [
       "str"
      ]
     },
     "execution_count": 69,
     "metadata": {},
     "output_type": "execute_result"
    }
   ],
   "source": [
    "# Qué tipos de datos usar para cada una?\n",
    "\n",
    "''' \n",
    "Analizando los datos se determina los siguientes tipos de datos:\n",
    "cod_pais string\n",
    "nom_pais string\n",
    "region string\n",
    "anio int\n",
    "co2 float\n",
    "co2_percapita float\n",
    "'''"
   ]
  },
  {
   "cell_type": "code",
   "execution_count": 4,
   "metadata": {},
   "outputs": [
    {
     "data": {
      "text/plain": [
       "list"
      ]
     },
     "execution_count": 4,
     "metadata": {},
     "output_type": "execute_result"
    }
   ],
   "source": [
    "# Qué tipo de variables son?\n",
    "\n",
    "'''\n",
    "Las 6 variables son listas. Los datos que contienen estas variables hasta el momento son todos string\n",
    "'''\n",
    "type(dicc_emisiones['anio'])"
   ]
  },
  {
   "cell_type": "code",
   "execution_count": 10,
   "metadata": {},
   "outputs": [
    {
     "name": "stdout",
     "output_type": "stream",
     "text": [
      "Hay 4193 campos vacíos\n"
     ]
    }
   ],
   "source": [
    "# Hay valores faltantes?\n",
    "\n",
    "'''\n",
    "Si. Examinando las listas individualmente se determina que hay valores vacíos.\n",
    "Se examina mediante un ciclo for.\n",
    "'''\n",
    "faltantes = 0\n",
    "for clave in dicc_emisiones:\n",
    "    for elemento in dicc_emisiones[clave]:\n",
    "        if not elemento:\n",
    "            faltantes +=1\n",
    "\n",
    "print(f'Hay {faltantes} campos vacíos')\n"
   ]
  },
  {
   "cell_type": "code",
   "execution_count": 6,
   "metadata": {},
   "outputs": [
    {
     "name": "stdout",
     "output_type": "stream",
     "text": [
      "Total de emisiones de CO2 para América Latina y Caribe en el año 2010: 1,691,634.80\n"
     ]
    }
   ],
   "source": [
    "# Cuál es el total de emisiones de CO2 para 'América Latina y Caribe' en el año 2010?\n",
    "\n",
    "'''\n",
    "Se realizará un ciclo \"for\" con enumerate para poder recorrer el diccionario y obtener el índice (uno a uno)\n",
    "en donde la región y el anio corresponde a los indicados. Luego, se realiza la transformación del string a float,\n",
    "para ello es necesario eliminar separador de miles y cambiar el separador de decimales\n",
    "'''\n",
    "suma = 0\n",
    "\n",
    "for indice,valor in enumerate(dicc_emisiones['region']):\n",
    "    if valor == 'América Latina y Caribe' and dicc_emisiones['anio'][indice] == '2010':\n",
    "        if dicc_emisiones['co2'][indice] != '':\n",
    "            suma += float(dicc_emisiones['co2'][indice].replace('.','').replace(',','.'))\n",
    "\n",
    "print(f'Total de emisiones de CO2 para América Latina y Caribe en el año 2010: {suma:,.2f}')\n"
   ]
  }
 ],
 "metadata": {
  "kernelspec": {
   "display_name": "Python 3.10.1 64-bit",
   "language": "python",
   "name": "python3"
  },
  "language_info": {
   "codemirror_mode": {
    "name": "ipython",
    "version": 3
   },
   "file_extension": ".py",
   "mimetype": "text/x-python",
   "name": "python",
   "nbconvert_exporter": "python",
   "pygments_lexer": "ipython3",
   "version": "3.10.1"
  },
  "orig_nbformat": 4,
  "vscode": {
   "interpreter": {
    "hash": "7a00de2d03a2cdd800050a5fd9903e27ef0ab168083508fb826c5866b9462f56"
   }
  }
 },
 "nbformat": 4,
 "nbformat_minor": 2
}
