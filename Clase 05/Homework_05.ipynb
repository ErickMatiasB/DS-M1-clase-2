{
 "cells": [
  {
   "cell_type": "markdown",
   "metadata": {},
   "source": [
    "# Práctica Clase 5"
   ]
  },
  {
   "cell_type": "markdown",
   "metadata": {},
   "source": [
    "1) Implementar un juego, que consista en apilar números enteros del 1 al 20, de forma aleatoria, para lo cual debe usarse una estructura de Pila. \n",
    "Luego, el usuario debe elegir un número de veces en que se va a quitar elementos de la pila, los cuales, sumados entre sí, no deben superar el valor de 50.\n",
    "El usuario pierde si la suma supera ese valor. Si no lo supera, gana, pero su calificación será 10 menos el número elementos que falten quitar para todavía no superar 50.\n",
    "El programa debe informar si perdió, y si ganó, con qué calificación lo hizo.\n",
    "\n",
    "Consideraciones:<br>\n",
    "a. Se puede usar la función input() para obtener una entrada de teclado.<br>\n",
    "b. Se puede usar la el modulo random para obtener valores aleatorios."
   ]
  },
  {
   "cell_type": "code",
   "execution_count": 81,
   "metadata": {},
   "outputs": [],
   "source": [
    "import random\n",
    "\n",
    "class Juego(object):\n",
    "\n",
    "    def __init__(self):\n",
    "        self.__lista = [*range(1,21)]\n",
    "        __azar = [random.randint(0,19) for x in range(0,20)]\n",
    "        __uno = 0\n",
    "        __dos = 0\n",
    "        for cont,x in enumerate(self.__lista):\n",
    "            __uno = x\n",
    "            __dos = self.__lista[__azar[cont]]\n",
    "            self.__lista[cont] = __dos\n",
    "            self.__lista[__azar[cont]] = __uno\n",
    "\n",
    "    def jugar(self):\n",
    "        __opcion = input('Indique la cantidad de cartas a sacar: ')\n",
    "        print(f'La lista: {self.__lista}')\n",
    "        suma=0\n",
    "        for x in [*range(int(__opcion))]:\n",
    "            suma += self.__lista.pop()\n",
    "        if suma > 50:\n",
    "            print(f'Suma es {suma}. Perdiste')\n",
    "        else:\n",
    "            cont = 0\n",
    "            suma2 = suma\n",
    "            puntos = 10\n",
    "            while suma2 < 50:\n",
    "                suma2 += self.__lista.pop()\n",
    "                if suma2 < 50:\n",
    "                    cont += 1\n",
    "            puntos = 10 - cont\n",
    "            print(f'Suma es {suma}. Ganaste con {puntos} puntos')"
   ]
  },
  {
   "cell_type": "code",
   "execution_count": 82,
   "metadata": {},
   "outputs": [
    {
     "name": "stdout",
     "output_type": "stream",
     "text": [
      "La lista: [15, 12, 4, 5, 10, 7, 14, 11, 17, 9, 18, 3, 19, 2, 8, 13, 1, 16, 6, 20]\n",
      "Suma es 43. Ganaste con 10 puntos\n"
     ]
    }
   ],
   "source": [
    "prueba = Juego()\n",
    "prueba.jugar()"
   ]
  },
  {
   "cell_type": "code",
   "execution_count": 83,
   "metadata": {},
   "outputs": [],
   "source": [
    "import numpy as np\n",
    "\n",
    "class Juego(object):\n",
    "\n",
    "    def __init__(self):\n",
    "        # Se inicia un arreglo, se barajea y se convierte en lista\n",
    "        self.__lista = np.ndarray.tolist(np.random.permutation(np.array([*range(1,21)])))\n",
    "\n",
    "    def jugar(self):\n",
    "        __opcion = input('Indique la cantidad de cartas a sacar del mazo: ')\n",
    "        print(f'El mazo era: {self.__lista}')\n",
    "        suma=0\n",
    "        for x in [*range(int(__opcion))]:\n",
    "            suma += self.__lista.pop()\n",
    "        if suma > 50:\n",
    "            print(f'La suma de las cartas es {suma}. Perdiste')\n",
    "        else:\n",
    "            cont = 0\n",
    "            suma2 = suma\n",
    "            puntos = 10\n",
    "            while suma2 < 50:\n",
    "                suma2 += self.__lista.pop()\n",
    "                if suma2 < 50:\n",
    "                    cont += 1\n",
    "            puntos -= cont\n",
    "            print(f'Suma es {suma}. Ganaste con {puntos} puntos')"
   ]
  },
  {
   "cell_type": "code",
   "execution_count": 85,
   "metadata": {},
   "outputs": [
    {
     "name": "stdout",
     "output_type": "stream",
     "text": [
      "El mazo era: [6, 4, 2, 14, 3, 12, 13, 8, 7, 15, 10, 5, 19, 17, 20, 9, 11, 1, 16, 18]\n",
      "Suma es 18. Ganaste con 7 puntos\n"
     ]
    }
   ],
   "source": [
    "a = Juego()\n",
    "a.jugar()"
   ]
  },
  {
   "cell_type": "code",
   "execution_count": 93,
   "metadata": {},
   "outputs": [
    {
     "name": "stdout",
     "output_type": "stream",
     "text": [
      "February\n"
     ]
    }
   ],
   "source": [
    "\n",
    "def switch_demo(argument):\n",
    "    switcher = {\n",
    "        1: \"January\",\n",
    "        2: \"February\",\n",
    "        3: \"March\",\n",
    "        4: \"April\",\n",
    "        5: \"May\",\n",
    "        6: \"June\",\n",
    "        7: \"July\",\n",
    "        8: \"August\",\n",
    "        9: \"September\",\n",
    "        10: \"October\",\n",
    "        11: \"November\",\n",
    "        12: \"December\"\n",
    "    }\n",
    "    switcher.get(argument, \"Invalid month\")\n",
    "    print (switcher.get(argument, \"Invalid month\"))\n",
    "\n",
    "switch_demo(int(input('Ingrese un numero: ')))\n"
   ]
  }
 ],
 "metadata": {
  "kernelspec": {
   "display_name": "Python 3.10.1 64-bit",
   "language": "python",
   "name": "python3"
  },
  "language_info": {
   "codemirror_mode": {
    "name": "ipython",
    "version": 3
   },
   "file_extension": ".py",
   "mimetype": "text/x-python",
   "name": "python",
   "nbconvert_exporter": "python",
   "pygments_lexer": "ipython3",
   "version": "3.10.1"
  },
  "vscode": {
   "interpreter": {
    "hash": "7a00de2d03a2cdd800050a5fd9903e27ef0ab168083508fb826c5866b9462f56"
   }
  }
 },
 "nbformat": 4,
 "nbformat_minor": 4
}
